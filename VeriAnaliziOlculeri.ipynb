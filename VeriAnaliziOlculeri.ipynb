{
 "cells": [
  {
   "cell_type": "markdown",
   "id": "2453a70f",
   "metadata": {},
   "source": [
    "# Medyan Mod Varyans Kovaryans Standart Sapma nedir."
   ]
  },
  {
   "cell_type": "markdown",
   "id": "33a9d222",
   "metadata": {},
   "source": [
    "## Medyan \n",
    "### Bir veri kümesindeki ortada yer alan değerdir.\n",
    "### veriler sıralı omalıdır.  \n",
    "### Eğer çift sayıda veri varsa medyan ortadaki değerlerin ortalamsıdır.\n"
   ]
  },
  {
   "cell_type": "code",
   "execution_count": 1,
   "id": "85a10f07",
   "metadata": {},
   "outputs": [],
   "source": [
    "lst1 = [1,4,4,7,12,48,55,58,600,1500]\n",
    "lst2 = [5,2,56,2,45,7,36,56,1500]"
   ]
  },
  {
   "cell_type": "code",
   "execution_count": 2,
   "id": "13f9443b",
   "metadata": {},
   "outputs": [],
   "source": [
    " # liste1 in medyanı (12+48)/2 = 30"
   ]
  },
  {
   "cell_type": "code",
   "execution_count": 3,
   "id": "abbaf584",
   "metadata": {},
   "outputs": [],
   "source": [
    "import numpy as np\n",
    "import math"
   ]
  },
  {
   "cell_type": "markdown",
   "id": "68e79efc",
   "metadata": {},
   "source": [
    "### Numpy ile medyan bulma"
   ]
  },
  {
   "cell_type": "code",
   "execution_count": 4,
   "id": "984bdc75",
   "metadata": {},
   "outputs": [
    {
     "data": {
      "text/plain": [
       "30.0"
      ]
     },
     "execution_count": 4,
     "metadata": {},
     "output_type": "execute_result"
    }
   ],
   "source": [
    "np.median([lst1]) "
   ]
  },
  {
   "cell_type": "code",
   "execution_count": 5,
   "id": "a39d1b90",
   "metadata": {},
   "outputs": [
    {
     "data": {
      "text/plain": [
       "[2, 2, 5, 7, 36, 45, 56, 56, 1500]"
      ]
     },
     "execution_count": 5,
     "metadata": {},
     "output_type": "execute_result"
    }
   ],
   "source": [
    "sorted(lst2)"
   ]
  },
  {
   "cell_type": "code",
   "execution_count": 6,
   "id": "7af38284",
   "metadata": {},
   "outputs": [
    {
     "data": {
      "text/plain": [
       "36.0"
      ]
     },
     "execution_count": 6,
     "metadata": {},
     "output_type": "execute_result"
    }
   ],
   "source": [
    "np.median([sorted(lst2)]) "
   ]
  },
  {
   "cell_type": "markdown",
   "id": "8685cd21",
   "metadata": {},
   "source": [
    "## Mod\n",
    "### En sık tekrarlanan verilerdir."
   ]
  },
  {
   "cell_type": "code",
   "execution_count": 7,
   "id": "d3a363c6",
   "metadata": {},
   "outputs": [
    {
     "name": "stdout",
     "output_type": "stream",
     "text": [
      "liste1 :  [1, 4, 4, 7, 12, 48, 55, 58, 600, 1500]\n",
      "liste2 :  [5, 2, 56, 2, 45, 7, 36, 56, 1500]\n"
     ]
    }
   ],
   "source": [
    "print(\"liste1 : \",lst1)\n",
    "print(\"liste2 : \",lst2) "
   ]
  },
  {
   "cell_type": "code",
   "execution_count": 8,
   "id": "fc39d0e6",
   "metadata": {},
   "outputs": [
    {
     "data": {
      "text/plain": [
       "{'1': 1,\n",
       " '4': 2,\n",
       " '7': 1,\n",
       " '12': 1,\n",
       " '48': 1,\n",
       " '55': 1,\n",
       " '58': 1,\n",
       " '600': 1,\n",
       " '1500': 1}"
      ]
     },
     "execution_count": 8,
     "metadata": {},
     "output_type": "execute_result"
    }
   ],
   "source": [
    "s = {}\n",
    "for i in lst1:\n",
    "    s[str(i)] = 0\n",
    "    for j in lst1:\n",
    "        if j == i:\n",
    "            s[str(i)] = s[str(i)] +1\n",
    "            \n",
    "s"
   ]
  },
  {
   "cell_type": "code",
   "execution_count": 9,
   "id": "f0a02fed",
   "metadata": {},
   "outputs": [],
   "source": [
    " a = [key for m in [max(s.values())] for key,val in s.items() if val == m]"
   ]
  },
  {
   "cell_type": "code",
   "execution_count": 10,
   "id": "83e85883",
   "metadata": {},
   "outputs": [],
   "source": [
    "b = max(s.values())"
   ]
  },
  {
   "cell_type": "code",
   "execution_count": 11,
   "id": "0a3832f5",
   "metadata": {},
   "outputs": [
    {
     "name": "stdout",
     "output_type": "stream",
     "text": [
      "Mod:  ['4']  tekrar sayısı:  2\n"
     ]
    }
   ],
   "source": [
    "print(\"Mod: \",a,\" tekrar sayısı: \",b)"
   ]
  },
  {
   "cell_type": "code",
   "execution_count": 12,
   "id": "94ac1f94",
   "metadata": {},
   "outputs": [
    {
     "data": {
      "text/plain": [
       "{'5': 1, '2': 2, '56': 2, '45': 1, '7': 1, '36': 1, '1500': 1}"
      ]
     },
     "execution_count": 12,
     "metadata": {},
     "output_type": "execute_result"
    }
   ],
   "source": [
    "s = {}\n",
    "for i in lst2:\n",
    "    s[str(i)] = 0\n",
    "    for j in lst2:\n",
    "        if j == i:\n",
    "            s[str(i)] = s[str(i)] +1\n",
    "            \n",
    "s"
   ]
  },
  {
   "cell_type": "code",
   "execution_count": 13,
   "id": "5cd50ca8",
   "metadata": {},
   "outputs": [],
   "source": [
    " a =  [key for m in [max(s.values())] for key,val in s.items() if val == m]"
   ]
  },
  {
   "cell_type": "code",
   "execution_count": 14,
   "id": "f892937f",
   "metadata": {},
   "outputs": [],
   "source": [
    "b = max(s.values())"
   ]
  },
  {
   "cell_type": "code",
   "execution_count": 15,
   "id": "a163604a",
   "metadata": {},
   "outputs": [
    {
     "name": "stdout",
     "output_type": "stream",
     "text": [
      "Mod:  ['2', '56']  tekrar sayısı:  2\n"
     ]
    }
   ],
   "source": [
    "print(\"Mod: \",a,\" tekrar sayısı: \",b)"
   ]
  },
  {
   "attachments": {
    "resim-6.png": {
     "image/png": "[encoded data removed]"
    }
   },
   "cell_type": "markdown",
   "id": "3488b859",
   "metadata": {},
   "source": [
    "## Standart Sapma\n",
    "### Mekezi dağılım ölçütüdür.\n",
    "### Veriler turarlı mı diil mi anlamak için kulanılır.\n",
    "### Standart Sapma yüksek ise veriler birbirinden uzak demektir, verilerin tutarlılığı azdır.\n",
    "### Standart Sapma düşük ise veriler birbirine yakın demektir, verilerin tutarlılığı yüksektir.\n",
    "### Standart sapma, değerin hesaplandığı verilerle aynı ölçekte olması nedeniyle yararlıdır.\n",
    "### Standart sapma, varyansın kareköküdür.\n",
    "\n",
    "\n",
    "Gruplandırılmış verilerde standart sapma şöyle hesaplanır =  ![resim-6.png](attachment:resim-6.png)\n",
    "→ Dağılımın aritmetik ortalaması bulunur \n",
    "\n",
    "→ Her ölçümün aritmetik ortalamadan farkı alınır \n",
    "\n",
    "→ Farkların kareleri alınır ve toplanır \n",
    "\n",
    "→ Bulduğumuz toplamı elaman sayısına(N) böleriz.\n",
    "\n",
    "→ Numune Standart Sapmasını hesaplarken N yerine (N-1) kulanılır.\n",
    "\n",
    "→ Çıkan sonucun karekökünü alırız.\n"
   ]
  },
  {
   "cell_type": "code",
   "execution_count": 16,
   "id": "7ea89061",
   "metadata": {},
   "outputs": [],
   "source": [
    "lst1 = [10,20,20,30,10,40,80,90,100,100]\n",
    "lst2 = [50,60,50,70,40,50,30,40,40,70]"
   ]
  },
  {
   "cell_type": "code",
   "execution_count": 17,
   "id": "c24d6158",
   "metadata": {},
   "outputs": [
    {
     "data": {
      "text/plain": [
       "50.0"
      ]
     },
     "execution_count": 17,
     "metadata": {},
     "output_type": "execute_result"
    }
   ],
   "source": [
    "ort = sum(lst1)/10\n",
    "ort"
   ]
  },
  {
   "cell_type": "code",
   "execution_count": 18,
   "id": "07f49131",
   "metadata": {},
   "outputs": [
    {
     "data": {
      "text/plain": [
       "[-40.0, -30.0, -30.0, -20.0, -40.0, -10.0, 30.0, 40.0, 50.0, 50.0]"
      ]
     },
     "execution_count": 18,
     "metadata": {},
     "output_type": "execute_result"
    }
   ],
   "source": [
    "a = []\n",
    "for i in lst1:\n",
    "    b = i-ort\n",
    "    a.append(b)\n",
    "a"
   ]
  },
  {
   "cell_type": "code",
   "execution_count": 19,
   "id": "68fbd49b",
   "metadata": {},
   "outputs": [
    {
     "data": {
      "text/plain": [
       "[1600.0, 900.0, 900.0, 400.0, 1600.0, 100.0, 900.0, 1600.0, 2500.0, 2500.0]"
      ]
     },
     "execution_count": 19,
     "metadata": {},
     "output_type": "execute_result"
    }
   ],
   "source": [
    "akare = []\n",
    "for i in a:\n",
    "    b = i*i\n",
    "    akare.append(b)\n",
    "akare"
   ]
  },
  {
   "cell_type": "code",
   "execution_count": 20,
   "id": "39b6e341",
   "metadata": {},
   "outputs": [
    {
     "data": {
      "text/plain": [
       "13000.0"
      ]
     },
     "execution_count": 20,
     "metadata": {},
     "output_type": "execute_result"
    }
   ],
   "source": [
    "kareToplam =sum(akare)\n",
    "kareToplam"
   ]
  },
  {
   "cell_type": "code",
   "execution_count": 21,
   "id": "a67103d0",
   "metadata": {},
   "outputs": [
    {
     "name": "stdout",
     "output_type": "stream",
     "text": [
      "Liste1 için Standart Sapma:  36.05551275463989\n"
     ]
    }
   ],
   "source": [
    "s = math.sqrt(kareToplam/10)\n",
    "print(\"Liste1 için Standart Sapma: \",s)"
   ]
  },
  {
   "cell_type": "markdown",
   "id": "93b1a78e",
   "metadata": {},
   "source": [
    "### Numpy ile Standart Sapma bulma"
   ]
  },
  {
   "cell_type": "code",
   "execution_count": 22,
   "id": "7b1999ed",
   "metadata": {},
   "outputs": [
    {
     "data": {
      "text/plain": [
       "36.05551275463989"
      ]
     },
     "execution_count": 22,
     "metadata": {},
     "output_type": "execute_result"
    }
   ],
   "source": [
    "np.std(lst1)"
   ]
  },
  {
   "cell_type": "code",
   "execution_count": 23,
   "id": "c19a4fb5",
   "metadata": {},
   "outputs": [
    {
     "data": {
      "text/plain": [
       "[50, 60, 50, 70, 40, 50, 30, 40, 40, 70]"
      ]
     },
     "execution_count": 23,
     "metadata": {},
     "output_type": "execute_result"
    }
   ],
   "source": [
    "lst2"
   ]
  },
  {
   "cell_type": "code",
   "execution_count": 24,
   "id": "66145dec",
   "metadata": {},
   "outputs": [
    {
     "data": {
      "text/plain": [
       "50.0"
      ]
     },
     "execution_count": 24,
     "metadata": {},
     "output_type": "execute_result"
    }
   ],
   "source": [
    "ort = sum(lst2)/10\n",
    "ort"
   ]
  },
  {
   "cell_type": "code",
   "execution_count": 25,
   "id": "c93c4074",
   "metadata": {},
   "outputs": [
    {
     "data": {
      "text/plain": [
       "[0.0, 10.0, 0.0, 20.0, -10.0, 0.0, -20.0, -10.0, -10.0, 20.0]"
      ]
     },
     "execution_count": 25,
     "metadata": {},
     "output_type": "execute_result"
    }
   ],
   "source": [
    "a = []\n",
    "for i in lst2:\n",
    "    b = i-ort\n",
    "    a.append(b)\n",
    "a"
   ]
  },
  {
   "cell_type": "code",
   "execution_count": 26,
   "id": "05937198",
   "metadata": {},
   "outputs": [
    {
     "data": {
      "text/plain": [
       "[0.0, 100.0, 0.0, 400.0, 100.0, 0.0, 400.0, 100.0, 100.0, 400.0]"
      ]
     },
     "execution_count": 26,
     "metadata": {},
     "output_type": "execute_result"
    }
   ],
   "source": [
    "akare = []\n",
    "for i in a:\n",
    "    b = i*i\n",
    "    akare.append(b)\n",
    "akare"
   ]
  },
  {
   "cell_type": "code",
   "execution_count": 27,
   "id": "2dde3c29",
   "metadata": {},
   "outputs": [
    {
     "data": {
      "text/plain": [
       "1600.0"
      ]
     },
     "execution_count": 27,
     "metadata": {},
     "output_type": "execute_result"
    }
   ],
   "source": [
    "kareToplam =sum(akare)\n",
    "kareToplam"
   ]
  },
  {
   "cell_type": "code",
   "execution_count": 28,
   "id": "600e9d77",
   "metadata": {},
   "outputs": [
    {
     "name": "stdout",
     "output_type": "stream",
     "text": [
      "Liste2 için Standart Sapma:  12.649110640673518\n"
     ]
    }
   ],
   "source": [
    "s = math.sqrt(kareToplam/10)\n",
    "print(\"Liste2 için Standart Sapma: \",s)"
   ]
  },
  {
   "cell_type": "markdown",
   "id": "528e4e47",
   "metadata": {},
   "source": [
    "### Numpy ile Standart Sapma bulma"
   ]
  },
  {
   "cell_type": "code",
   "execution_count": 29,
   "id": "9ad5da2a",
   "metadata": {},
   "outputs": [
    {
     "data": {
      "text/plain": [
       "12.649110640673518"
      ]
     },
     "execution_count": 29,
     "metadata": {},
     "output_type": "execute_result"
    }
   ],
   "source": [
    "np.std(lst2)"
   ]
  },
  {
   "cell_type": "markdown",
   "id": "c8c0e1c2",
   "metadata": {},
   "source": [
    "## Varyans\n",
    "### Varyans, verilerin dağılımın ortalama değerinden dağılmasının bir ölçüsüdür. Veri noktalarının dağılımın ortalamasından ne kadar uzakta olduğunu söyler.\n",
    "### Her bir veri noktası ile dağılımın ortalaması arasındaki karenin ortalamaları olarak tanımlanabilir.\n",
    "### Standart sapmanın karesidir.\n",
    "## Varyans ve Standart Sapma Arasındaki Temel Farklar\n",
    "→ Varyans, gözlemlerin aritmetik ortalamasından değişkenliği tanımlayan sayısal bir değerdir. Standart sapma, bir veri setinde gözlemlerin dağılımının bir ölçüsüdür.\n",
    "\n",
    "→ Varyans, ortalama kare sapmalardan başka bir şey değildir. Diğer yandan standart sapma, kök ortalama kare sapmadır.\n",
    "\n",
    "→ Varyans sigma karesi (σ2) ile gösterilirken standart sapma sigma (σ) olarak etiketlenir.\n",
    "\n",
    "→ Varyans, verilen veri setindeki değerlerden genellikle daha büyük olan kare birimlerle ifade edilir. Veri setindeki değerlerle aynı birimlerle ifade edilen standart sapmaların aksine.\n",
    "\n",
    "→ Varyans, bir gruptaki bireylerin ne kadar yayıldığını ölçer. Tersine, Standart Sapma, bir veri kümesinin gözlemlerinin ortalamadan ne kadar farklı olduğunu ölçer."
   ]
  },
  {
   "cell_type": "markdown",
   "id": "7dba17b5",
   "metadata": {},
   "source": [
    "### Numpy ile Varyans bulma"
   ]
  },
  {
   "cell_type": "code",
   "execution_count": 30,
   "id": "f7f047cb",
   "metadata": {},
   "outputs": [
    {
     "name": "stdout",
     "output_type": "stream",
     "text": [
      "liste1 :  [10, 20, 20, 30, 10, 40, 80, 90, 100, 100]\n",
      "liste2 :  [50, 60, 50, 70, 40, 50, 30, 40, 40, 70]\n"
     ]
    }
   ],
   "source": [
    "print(\"liste1 : \",lst1)\n",
    "print(\"liste2 : \",lst2) "
   ]
  },
  {
   "cell_type": "code",
   "execution_count": 31,
   "id": "b3b0cecb",
   "metadata": {},
   "outputs": [
    {
     "name": "stdout",
     "output_type": "stream",
     "text": [
      "Liste1 için Standart Sapma:  36.05551275463989\n"
     ]
    }
   ],
   "source": [
    "stdSapma = np.std(lst1)\n",
    "print(\"Liste1 için Standart Sapma: \",stdSapma)"
   ]
  },
  {
   "cell_type": "code",
   "execution_count": 32,
   "id": "6a3a9b84",
   "metadata": {},
   "outputs": [
    {
     "name": "stdout",
     "output_type": "stream",
     "text": [
      "Liste1 için Varyans:  1300.0\n"
     ]
    }
   ],
   "source": [
    "Varyans =np.var(lst1)\n",
    "print(\"Liste1 için Varyans: \",Varyans)"
   ]
  },
  {
   "cell_type": "code",
   "execution_count": 33,
   "id": "6258a28f",
   "metadata": {},
   "outputs": [
    {
     "name": "stdout",
     "output_type": "stream",
     "text": [
      "Liste2 için Standart Sapma:  12.649110640673518\n"
     ]
    }
   ],
   "source": [
    "stdSapma = np.std(lst2)\n",
    "print(\"Liste2 için Standart Sapma: \",stdSapma)"
   ]
  },
  {
   "cell_type": "code",
   "execution_count": 34,
   "id": "6c2e7df0",
   "metadata": {},
   "outputs": [
    {
     "name": "stdout",
     "output_type": "stream",
     "text": [
      "Liste2 için Varyans:  160.0\n"
     ]
    }
   ],
   "source": [
    "Varyans =np.var(lst2)\n",
    "print(\"Liste2 için Varyans: \",Varyans)"
   ]
  },
  {
   "attachments": {
    "resim-2.png": {
     "image/png": "[encoded data removed]"
    },
    "resim.png": {
     "image/png": "[encoded data removed]"
    }
   },
   "cell_type": "markdown",
   "id": "bb412317",
   "metadata": {},
   "source": [
    "# Kovaryans\n",
    "### Kovaryans iki değişken arasındaki doğrusal ilişkinin değişkenliğini ölçen bir kavramdır.\n",
    "### Kovaryans formülü sonucu hesaplanan değer pozitif ise pozitif bir ilişki olduğu anlamına gelir, negatif ise negatif bir ilişki olduğu anlamındadır. Kovaryans değerinin büyüklüğü bir anlam ifade etmez, tamamen veriye bağlı olarak değişir.\n",
    "Kovaryans Nasıl Hesaplanır?\n",
    "![resim.png](attachment:resim.png)\n",
    "\n",
    "\n",
    "\n",
    "COV( x,y ) : x bağımsız değişkeni ile y bağımsız değişkenin koveryansı\n",
    "\n",
    "xi : değişkeni\n",
    "\n",
    "yi : değişkeni\n",
    "\n",
    "x^- : değişkeninin ortalaması\n",
    "\n",
    "y^- : değişkeninin ortalaması\n",
    "\n",
    "n : toplam veri sayısı\n",
    "\n",
    "### Kovaryans matrisi\n",
    "\n",
    "Kovaryans matrisi bu değişkenlerin karşılıklı kovaryans değerlerinin bulunduğu bir matristir. Aşağıda örnek bir kovaryans matrisi görülmektedir. Dikkat edilirse esas köşegen değişkelerin varyanslarından oluşmaktadır.\n",
    "![resim-2.png](attachment:resim-2.png)"
   ]
  },
  {
   "cell_type": "code",
   "execution_count": 35,
   "id": "f35dd331",
   "metadata": {},
   "outputs": [],
   "source": [
    "liste1 = [1,3,5,4,6,8,5,9,10,9]\n",
    "liste2 = [10, 20, 20, 30, 10, 40, 80, 90, 100, 100]"
   ]
  },
  {
   "cell_type": "code",
   "execution_count": 36,
   "id": "b358e546",
   "metadata": {},
   "outputs": [
    {
     "data": {
      "text/plain": [
       "6.0"
      ]
     },
     "execution_count": 36,
     "metadata": {},
     "output_type": "execute_result"
    }
   ],
   "source": [
    "ortx = sum(liste1)/10\n",
    "ortx"
   ]
  },
  {
   "cell_type": "code",
   "execution_count": 37,
   "id": "b7d08fe0",
   "metadata": {},
   "outputs": [
    {
     "data": {
      "text/plain": [
       "50.0"
      ]
     },
     "execution_count": 37,
     "metadata": {},
     "output_type": "execute_result"
    }
   ],
   "source": [
    "orty = sum(liste2)/10\n",
    "orty"
   ]
  },
  {
   "cell_type": "code",
   "execution_count": 38,
   "id": "080ea093",
   "metadata": {},
   "outputs": [
    {
     "data": {
      "text/plain": [
       "[-5.0, -3.0, -1.0, -2.0, 0.0, 2.0, -1.0, 3.0, 4.0, 3.0]"
      ]
     },
     "execution_count": 38,
     "metadata": {},
     "output_type": "execute_result"
    }
   ],
   "source": [
    "a = []\n",
    "for i in liste1:\n",
    "    b = i-ortx\n",
    "    a.append(b)\n",
    "a"
   ]
  },
  {
   "cell_type": "code",
   "execution_count": 39,
   "id": "7d320da3",
   "metadata": {},
   "outputs": [
    {
     "data": {
      "text/plain": [
       "[-40.0, -30.0, -30.0, -20.0, -40.0, -10.0, 30.0, 40.0, 50.0, 50.0]"
      ]
     },
     "execution_count": 39,
     "metadata": {},
     "output_type": "execute_result"
    }
   ],
   "source": [
    "c = []\n",
    "for i in liste2:\n",
    "    b = i-orty\n",
    "    c.append(b)\n",
    "c"
   ]
  },
  {
   "cell_type": "code",
   "execution_count": 40,
   "id": "f595cd47",
   "metadata": {},
   "outputs": [
    {
     "data": {
      "text/plain": [
       "[200.0, 90.0, 30.0, 40.0, -0.0, -20.0, -30.0, 120.0, 200.0, 150.0]"
      ]
     },
     "execution_count": 40,
     "metadata": {},
     "output_type": "execute_result"
    }
   ],
   "source": [
    "liste3 = [a*b for a,b in zip(a,c)]\n",
    "liste3"
   ]
  },
  {
   "cell_type": "code",
   "execution_count": 41,
   "id": "430a159a",
   "metadata": {},
   "outputs": [
    {
     "name": "stdout",
     "output_type": "stream",
     "text": [
      "Kovaryans :  86.66666666666667\n"
     ]
    }
   ],
   "source": [
    "Kovaryans = sum(liste3)/9\n",
    "print(\"Kovaryans : \",Kovaryans)"
   ]
  },
  {
   "attachments": {
    "Ads%C4%B1z-2.png": {
     "image/png": "[encoded data removed]"
    }
   },
   "cell_type": "markdown",
   "id": "d0b62966",
   "metadata": {},
   "source": [
    "# Korelasyon \n",
    "\n",
    "### İki değişkenin arasında ki yönü belirlemekte kullanılır.\n",
    "\n",
    "### Kovaryansın sadeleştirilmiş hali de demek mümkündür.\n",
    "\n",
    "### Her zaman -1 ile +1 değerleri arasında bir değer verir.\n",
    "\n",
    "### Korelasyonun pozitif olması iki değişken arasında ki ilişkinin aynı yönde olduğunu, negatif olması ise ters yönde olduğunu göstermektedir.\n",
    "\n",
    "### Kovaryans ve korelasyon genel olarak finansal değişkenler arasında ki bağı ölçmek için yapılan hesaplamalarda ön plana çıkmaktadır. Bu yöntemler değişkenlerin bir birleri ile olan bağını ve yönünü ölçerken, neden sonuç ilişkisi vermemektedir. Örneğin; inşaat demirinin fiyatının artmasına enflasyon artışı sebep oluyor diyemeyiz ama enflasyonun artışının demir fiyatlarının artmasında ne kadar etkili olduğunu görebiliriz.\n",
    "\n",
    "Kovaryans vs. Korelasyon\n",
    "\n",
    "→ Kovaryans iki değişken arasındaki yönü belirler. +, – ya da 0 olabilir.\n",
    "\n",
    "→ Hesaplanan Kovaryans değeri için üst-alt sınırı yoktur, tamamen verisetindeki değerlere bağlıdır.\n",
    "\n",
    "→ Korelasyon iki değişken arasındaki yön ve ilişkinin güçlülüğünü belirler.\n",
    "\n",
    "→ Korelasyon, kovaryansın standartlaştırılmış halidir. Her zaman (-1,+1) aralığındadır.\n",
    "\n",
    "→ Korelasyon Neden-Sonuç ilişkisi belirlemez! Örneğin, dondurma tüketimi ile suç oranlarının artılı arasında bir korelasyon bulunabilir. Fakat, dondurma tüketimi artışı ile şuç oranları artar diyemeyiz. Bunun altında yatan farklı bir neden, örneğin sıcaklıkların artması olabilir.\n",
    "\n",
    "→ Korelasyonun yüksek olması bunun istatistiksel olarak geçerli olduğunu göstermez. Veri setinin büyüklüğüne göre bu test edilmelidir.\n",
    "\n",
    "Korelasyon Nasıl Hesaplanır?\n",
    "![Ads%C4%B1z-2.png](attachment:Ads%C4%B1z-2.png)"
   ]
  },
  {
   "cell_type": "code",
   "execution_count": 42,
   "id": "71ff01a1",
   "metadata": {},
   "outputs": [
    {
     "name": "stdout",
     "output_type": "stream",
     "text": [
      "liste1 :  [1, 3, 5, 4, 6, 8, 5, 9, 10, 9]\n",
      "liste2 :  [10, 20, 20, 30, 10, 40, 80, 90, 100, 100]\n"
     ]
    }
   ],
   "source": [
    "print(\"liste1 : \",liste1)\n",
    "print(\"liste2 : \",liste2) "
   ]
  },
  {
   "cell_type": "code",
   "execution_count": 43,
   "id": "4465d3eb",
   "metadata": {},
   "outputs": [
    {
     "name": "stdout",
     "output_type": "stream",
     "text": [
      "Kovaryans :  86.66666666666667\n"
     ]
    }
   ],
   "source": [
    "print(\"Kovaryans : \",Kovaryans)"
   ]
  },
  {
   "cell_type": "markdown",
   "id": "a568f314",
   "metadata": {},
   "source": [
    "### Numpy ile Standart Sapma bulma"
   ]
  },
  {
   "cell_type": "code",
   "execution_count": 44,
   "id": "45818321",
   "metadata": {},
   "outputs": [
    {
     "data": {
      "text/plain": [
       "2.792848008753788"
      ]
     },
     "execution_count": 44,
     "metadata": {},
     "output_type": "execute_result"
    }
   ],
   "source": [
    "sx = np.std(liste1)\n",
    "sx"
   ]
  },
  {
   "cell_type": "code",
   "execution_count": 45,
   "id": "cbb3cccb",
   "metadata": {},
   "outputs": [
    {
     "data": {
      "text/plain": [
       "36.05551275463989"
      ]
     },
     "execution_count": 45,
     "metadata": {},
     "output_type": "execute_result"
    }
   ],
   "source": [
    "sy = np.std(liste2)\n",
    "sy"
   ]
  },
  {
   "cell_type": "code",
   "execution_count": null,
   "id": "7ce0c3a4",
   "metadata": {},
   "outputs": [],
   "source": []
  },
  {
   "cell_type": "code",
   "execution_count": 46,
   "id": "f0119fb9",
   "metadata": {},
   "outputs": [
    {
     "name": "stdout",
     "output_type": "stream",
     "text": [
      "Korelasyon :  0.8606629658238706\n"
     ]
    }
   ],
   "source": [
    "Kor = Kovaryans/(sx*sy)\n",
    "print(\"Korelasyon : \",Kor)"
   ]
  }
 ],
 "metadata": {
  "kernelspec": {
   "display_name": "Python 3",
   "language": "python",
   "name": "python3"
  },
  "language_info": {
   "codemirror_mode": {
    "name": "ipython",
    "version": 3
   },
   "file_extension": ".py",
   "mimetype": "text/x-python",
   "name": "python",
   "nbconvert_exporter": "python",
   "pygments_lexer": "ipython3",
   "version": "3.8.8"
  }
 },
 "nbformat": 4,
 "nbformat_minor": 5
}
